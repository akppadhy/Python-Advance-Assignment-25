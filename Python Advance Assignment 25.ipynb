{
 "cells": [
  {
   "cell_type": "code",
   "execution_count": null,
   "id": "345816e8-bd7e-4207-ad88-2979c4484477",
   "metadata": {},
   "outputs": [],
   "source": [
    "#1. What is the distinction between a numpy array and a pandas data frame? Is there a way to convert between the two if there is ?\n",
    "\n",
    "Ans. Numpy Ndarray provides a lot of convenient and optimized methods for performing several mathematical operations on vectors.\n",
    "Pandas Dataframe is an in-memory 2-dimensional tabular representation of data. In simpler words, it can be seen as a spreadsheet having rows and columns.\n",
    "Conversion : Dataframe=pandas.DataFrame(array)"
   ]
  },
  {
   "cell_type": "code",
   "execution_count": null,
   "id": "ea72e9cd-db4e-4843-ae3b-b262949fe5ff",
   "metadata": {},
   "outputs": [],
   "source": [
    "#2. What can go wrong when an user enters in a stock-ticker symbol, and how do you handle it?\n",
    "\n",
    "Ans. When a user enters a stock ticker symbol, several things can potentially go wrong. Here are some common issues and how you can handle them:\n",
    "\n",
    "*Invalid Ticker Symbol: Users may enter an incorrect or invalid stock ticker symbol. This could be due to typographical errors or entering a \n",
    "symbol that doesn't exist in the stock market.\n",
    ":Handling: You can implement validation checks to verify the entered symbol against a list of valid symbols or use an API or service that \n",
    "provides stock symbol validation. If the symbol is invalid, you can display an error message to the user and prompt them to enter a valid symbol.\n",
    "\n",
    "*Network Connectivity Issues: There might be temporary network issues or connectivity problems when fetching stock data from an external source or API.\n",
    ":Handling: Implement error handling and provide appropriate error messages to the user when there are network-related issues. \n",
    "You can also offer a retry mechanism or inform the user to try again later.\n",
    "\n",
    "*API Limitations or Errors: If you rely on an external API for retrieving stock data, there could be limitations on the number of requests \n",
    "you can make or occasional errors from the API provider.\n",
    "\n",
    "By addressing these potential issues through proper validation, error handling, and providing informative messages to the user, you can enhance\n",
    "the user experience and ensure more robust handling of stock ticker symbols.\n"
   ]
  },
  {
   "cell_type": "code",
   "execution_count": null,
   "id": "f53f184c-8b85-4792-a779-42d831e6fc77",
   "metadata": {},
   "outputs": [],
   "source": [
    "#3. Identify some of the plotting techniques that are used to produce a stock-market chart ?\n",
    "\n",
    "Ans. Bar chart, Line Chart are used for plotting."
   ]
  },
  {
   "cell_type": "code",
   "execution_count": null,
   "id": "4a9d28ca-b850-4370-86d6-c2a8cb5d90bd",
   "metadata": {},
   "outputs": [],
   "source": [
    "#4.  Why is it essential to print a legend on a stock market chart ?\n",
    "\n",
    "Ans. Legend will help comparison between different stocks, so will be essential on a stock market chart."
   ]
  },
  {
   "cell_type": "code",
   "execution_count": null,
   "id": "ad7b2583-bace-44ad-af95-374665356ed1",
   "metadata": {},
   "outputs": [],
   "source": [
    "#5. What is the best way to limit the length of a pandas data frame to less than a year ?\n",
    "\n",
    "Ans. We can use start and end parameters for that. In start we write the date from where we are starting and at the end we write the end date. \n",
    "SO within this span we can restric the duration.Also we can use the parameters like periods for how much times we need the duration and we can \n",
    "also use the frequency parameter."
   ]
  },
  {
   "cell_type": "code",
   "execution_count": null,
   "id": "0faeafbe-b2ae-427a-8471-b3b957e844e2",
   "metadata": {},
   "outputs": [],
   "source": [
    "#6. What is the definition of a 180-day moving average ?\n",
    "\n",
    "Ans. The 180-day moving average is represented as a line on charts and represents the average price over the past 180 days. \n",
    "The moving average can give traders a sense regarding whether the trend is up or down, while also identifying potential support or resistance areas."
   ]
  },
  {
   "cell_type": "code",
   "execution_count": null,
   "id": "a9a0b898-53f6-4ffe-937d-70bbdc4a9d0c",
   "metadata": {},
   "outputs": [],
   "source": [
    "#7. Did the chapters final example use \"indirect\"importing? If so, how exactly do you do it?\n",
    "\n",
    "Ans. Here's an example of how indirect importing can be achieved:\n",
    "\n",
    "module_name = \"example_module\"  # The name of the module you want to import indirectly\n",
    "\n",
    "# Import the module indirectly using the module name\n",
    "module = __import__(module_name)\n",
    "\n",
    "# Now you can access the functions, classes, or variables defined in the module\n",
    "module.some_function()\n",
    "\n",
    "\n",
    "In this example, the __import__() function is used to import the module indirectly. \n",
    "By passing the module_name as a string parameter to __import__(), the module with that name is dynamically imported. \n",
    "The returned module object can then be used to access its contents."
   ]
  }
 ],
 "metadata": {
  "kernelspec": {
   "display_name": "Python 3 (ipykernel)",
   "language": "python",
   "name": "python3"
  },
  "language_info": {
   "codemirror_mode": {
    "name": "ipython",
    "version": 3
   },
   "file_extension": ".py",
   "mimetype": "text/x-python",
   "name": "python",
   "nbconvert_exporter": "python",
   "pygments_lexer": "ipython3",
   "version": "3.10.6"
  }
 },
 "nbformat": 4,
 "nbformat_minor": 5
}
